{
 "cells": [
  {
   "cell_type": "code",
   "execution_count": 134,
   "id": "f8e37843",
   "metadata": {
    "ExecuteTime": {
     "end_time": "2021-05-25T13:33:44.147051Z",
     "start_time": "2021-05-25T13:33:44.133072Z"
    }
   },
   "outputs": [],
   "source": [
    "import pandas as pd\n",
    "import numpy as np\n",
    "import seaborn as sns\n",
    "from sklearn.datasets import make_classification\n",
    "import matplotlib.pyplot as plt\n",
    "import matplotlib"
   ]
  },
  {
   "cell_type": "code",
   "execution_count": 135,
   "id": "6ce385a7",
   "metadata": {
    "ExecuteTime": {
     "end_time": "2021-05-25T13:33:44.672789Z",
     "start_time": "2021-05-25T13:33:44.644844Z"
    }
   },
   "outputs": [],
   "source": [
    "class Perceptron:\n",
    "    def __init__(self,X_features,y_true, **args):\n",
    "        if len(args)!=0:\n",
    "            \n",
    "            self.Weight=np.random.randn(X_features.shape[1],1)\n",
    "            self.bias=np.random.randn()            \n",
    "            self.datasize_nsamples=len(X_features)\n",
    "            self.datasize_nfeatures=X_features.shape[1]\n",
    "            self.data_X_train=X_features.copy()\n",
    "            self.data_y_true=y_true\n",
    "            \n",
    "            if args['function_activation'] == \"relu\":\n",
    "                self.Activation_Function=np.vectorize(lambda x: x if x>0 else 0,otypes=['float'])\n",
    "                self.Activation_Function_Derivative=np.vectorize(lambda x: 1 if x>0 else 0,otypes=['float'])\n",
    "                self.Activation_Function_treshold=0\n",
    "            elif args['function_activation'] == \"sigmoid\":\n",
    "                self.Activation_Function=np.vectorize(lambda x: 1/(1+np.exp(-x)),otypes=['float'])\n",
    "                self.Activation_Function_Derivative=np.vectorize(lambda x: 1/(1+np.exp(-x)) * (1-1/(1+np.exp(-x))),otypes=['float'])\n",
    "                self.Activation_Function_treshold=0.5\n",
    "        else:\n",
    "            print('Unknown Activation Function')\n",
    "            return(False)\n",
    "        \n",
    "        \n",
    "    def train(self,**args):\n",
    "        if len(args)==2:\n",
    "            l_r=args['learning_rate']\n",
    "            epochs=args['epochs']\n",
    "            \n",
    "            self.Weight_history=[]\n",
    "            self.bias_history=[]\n",
    "            self.loss_curve_data = []\n",
    "            self.accuracy_curve_data = []\n",
    "            for epoch in range(epochs):\n",
    "                sigma=self.data_X_train.dot(self.Weight) + self.bias\n",
    "                f_sigma=self.Activation_Function(sigma).reshape(-1)\n",
    "                f_sigma_der=self.Activation_Function_Derivative(sigma).reshape(-1)\n",
    "                delta=(f_sigma-self.data_y_true)*f_sigma_der\n",
    "                \n",
    "                dW=(1/self.datasize_nsamples)*np.dot((self.data_X_train).T, delta)\n",
    "                db=delta.sum()/self.datasize_nsamples\n",
    "\n",
    "                self.Weight-=l_r*(dW.reshape(self.datasize_nfeatures,1))\n",
    "                self.Weight_history.append(self.Weight.copy())\n",
    "                self.bias-=l_r*db\n",
    "                self.bias_history.append(self.bias.copy())\n",
    "                \n",
    "                yfound=1*(self.Activation_Function(self.data_X_train.dot(self.Weight) + self.bias)>self.Activation_Function_treshold)\n",
    "                yfound=yfound.reshape(self.datasize_nsamples)\n",
    "                                           \n",
    "                self.accuracy_curve_data.append(100*np.count_nonzero((yfound==self.data_y_true))/len(self.data_y_true))\n",
    "                self.loss_curve_data.append(((f_sigma-self.data_y_true)**2).mean())\n",
    "                \n",
    "                if epoch%int(epochs/10)==0 or epoch==epochs-1:\n",
    "                    print(\"Avancement \",epoch+1,'/',epochs,' : ', np.round(100*(epoch+1)/epochs,1),'%{:>5} - loss : '.format(''),self.loss_curve_data[epoch], '{:>5} - acc : '.format(''),self.accuracy_curve_data[epoch])\n",
    "        \n",
    "        else:\n",
    "            print('Unknown learning_rate or epochs')\n",
    "            return(False)\n",
    "        \n",
    "    def predict(self, X_test):\n",
    "        self.predict_result=1*(self.Activation_Function(self.data_X_train.dot(self.Weight) + self.bias)>self.Activation_Function_treshold).reshape(self.datasize_nsamples)\n",
    "        return(self.predict_result)\n",
    "    \n",
    "    def accuracy_curve(self):\n",
    "        pd.DataFrame(self.accuracy_curve_data, columns=['accuracy']).plot()\n",
    "    def loss_curve(self):\n",
    "        pd.DataFrame(self.loss_curve_data, columns=['loss']).plot()\n",
    "        \n",
    "    def decision_boundary(self):\n",
    "        for i in range(self.datasize_nfeatures-1):\n",
    "            plt.figure(121 + i)\n",
    "            sns.scatterplot(x=self.data_X_train[:,i],y=self.data_X_train[:,i+1], hue=self.data_y_true)\n",
    "            a0_1=-self.Weight[i:i+2][0]/self.Weight[i:i+2][1]\n",
    "            b0_1=-self.bias/self.Weight[i:i+2][1]\n",
    "            f=lambda x:a0_1*x+b0_1\n",
    "            x_db=[self.data_X_train[:,i].min(),self.data_X_train[:,i].max()]\n",
    "            plt.plot(x_db,f(x_db))\n",
    "            plt.xlim(1.20*self.data_X_train[:,i].min(),1.20*self.data_X_train[:,i].max())\n",
    "            plt.ylim(1.20*self.data_X_train[:,i+1].min(),1.20*self.data_X_train[:,i+1].max())\n",
    "    \n",
    "        \n",
    "        \n",
    "        "
   ]
  },
  {
   "cell_type": "code",
   "execution_count": 147,
   "id": "93cf2d84",
   "metadata": {
    "ExecuteTime": {
     "end_time": "2021-05-25T13:34:03.029116Z",
     "start_time": "2021-05-25T13:34:03.021137Z"
    },
    "scrolled": true
   },
   "outputs": [],
   "source": [
    "n_features=2\n",
    "n_clusters=2\n",
    "\n",
    "X, y = make_classification(n_features=n_features, n_redundant=0, n_informative=2)\n",
    "m1=Perceptron(X,y,function_activation=\"sigmoid\")"
   ]
  },
  {
   "cell_type": "markdown",
   "id": "328064f8",
   "metadata": {},
   "source": [
    "# Dataset généré et target associée"
   ]
  },
  {
   "cell_type": "code",
   "execution_count": 148,
   "id": "a02acd58",
   "metadata": {
    "ExecuteTime": {
     "end_time": "2021-05-25T13:34:03.355026Z",
     "start_time": "2021-05-25T13:34:03.333085Z"
    }
   },
   "outputs": [
    {
     "data": {
      "text/html": [
       "<div>\n",
       "<style scoped>\n",
       "    .dataframe tbody tr th:only-of-type {\n",
       "        vertical-align: middle;\n",
       "    }\n",
       "\n",
       "    .dataframe tbody tr th {\n",
       "        vertical-align: top;\n",
       "    }\n",
       "\n",
       "    .dataframe thead th {\n",
       "        text-align: right;\n",
       "    }\n",
       "</style>\n",
       "<table border=\"1\" class=\"dataframe\">\n",
       "  <thead>\n",
       "    <tr style=\"text-align: right;\">\n",
       "      <th></th>\n",
       "      <th>0</th>\n",
       "      <th>1</th>\n",
       "      <th>target</th>\n",
       "    </tr>\n",
       "  </thead>\n",
       "  <tbody>\n",
       "    <tr>\n",
       "      <th>0</th>\n",
       "      <td>1.279513</td>\n",
       "      <td>1.329260</td>\n",
       "      <td>1</td>\n",
       "    </tr>\n",
       "    <tr>\n",
       "      <th>1</th>\n",
       "      <td>0.557910</td>\n",
       "      <td>-0.714258</td>\n",
       "      <td>1</td>\n",
       "    </tr>\n",
       "    <tr>\n",
       "      <th>2</th>\n",
       "      <td>-1.631537</td>\n",
       "      <td>1.895483</td>\n",
       "      <td>0</td>\n",
       "    </tr>\n",
       "    <tr>\n",
       "      <th>3</th>\n",
       "      <td>1.889016</td>\n",
       "      <td>-1.248183</td>\n",
       "      <td>1</td>\n",
       "    </tr>\n",
       "    <tr>\n",
       "      <th>4</th>\n",
       "      <td>0.948877</td>\n",
       "      <td>-1.034327</td>\n",
       "      <td>1</td>\n",
       "    </tr>\n",
       "    <tr>\n",
       "      <th>...</th>\n",
       "      <td>...</td>\n",
       "      <td>...</td>\n",
       "      <td>...</td>\n",
       "    </tr>\n",
       "    <tr>\n",
       "      <th>95</th>\n",
       "      <td>-2.171104</td>\n",
       "      <td>-1.418170</td>\n",
       "      <td>0</td>\n",
       "    </tr>\n",
       "    <tr>\n",
       "      <th>96</th>\n",
       "      <td>0.722574</td>\n",
       "      <td>-0.402654</td>\n",
       "      <td>0</td>\n",
       "    </tr>\n",
       "    <tr>\n",
       "      <th>97</th>\n",
       "      <td>2.609504</td>\n",
       "      <td>2.441945</td>\n",
       "      <td>1</td>\n",
       "    </tr>\n",
       "    <tr>\n",
       "      <th>98</th>\n",
       "      <td>-1.116730</td>\n",
       "      <td>1.307940</td>\n",
       "      <td>0</td>\n",
       "    </tr>\n",
       "    <tr>\n",
       "      <th>99</th>\n",
       "      <td>0.618237</td>\n",
       "      <td>0.450660</td>\n",
       "      <td>1</td>\n",
       "    </tr>\n",
       "  </tbody>\n",
       "</table>\n",
       "<p>100 rows × 3 columns</p>\n",
       "</div>"
      ],
      "text/plain": [
       "           0         1  target\n",
       "0   1.279513  1.329260       1\n",
       "1   0.557910 -0.714258       1\n",
       "2  -1.631537  1.895483       0\n",
       "3   1.889016 -1.248183       1\n",
       "4   0.948877 -1.034327       1\n",
       "..       ...       ...     ...\n",
       "95 -2.171104 -1.418170       0\n",
       "96  0.722574 -0.402654       0\n",
       "97  2.609504  2.441945       1\n",
       "98 -1.116730  1.307940       0\n",
       "99  0.618237  0.450660       1\n",
       "\n",
       "[100 rows x 3 columns]"
      ]
     },
     "execution_count": 148,
     "metadata": {},
     "output_type": "execute_result"
    }
   ],
   "source": [
    "data=pd.DataFrame(X)\n",
    "data['target']=y\n",
    "data"
   ]
  },
  {
   "cell_type": "markdown",
   "id": "2865094b",
   "metadata": {},
   "source": [
    "# Distribution des points et de leur target"
   ]
  },
  {
   "cell_type": "code",
   "execution_count": 149,
   "id": "211df148",
   "metadata": {
    "ExecuteTime": {
     "end_time": "2021-05-25T13:34:04.578833Z",
     "start_time": "2021-05-25T13:34:04.453169Z"
    },
    "scrolled": true
   },
   "outputs": [
    {
     "data": {
      "text/plain": [
       "<AxesSubplot:>"
      ]
     },
     "execution_count": 149,
     "metadata": {},
     "output_type": "execute_result"
    },
    {
     "data": {
      "image/png": "[encoded data removed]",
      "text/plain": [
       "<Figure size 432x288 with 1 Axes>"
      ]
     },
     "metadata": {
      "needs_background": "light"
     },
     "output_type": "display_data"
    }
   ],
   "source": [
    "sns.scatterplot(x=X[:,0],y=X[:,1],hue=y)"
   ]
  },
  {
   "cell_type": "markdown",
   "id": "bb0d9cf4",
   "metadata": {},
   "source": [
    "# Entraînement"
   ]
  },
  {
   "cell_type": "code",
   "execution_count": 150,
   "id": "0d1e5ff2",
   "metadata": {
    "ExecuteTime": {
     "end_time": "2021-05-25T13:34:06.086141Z",
     "start_time": "2021-05-25T13:34:05.892224Z"
    }
   },
   "outputs": [
    {
     "name": "stdout",
     "output_type": "stream",
     "text": [
      "Avancement  1 / 300  :  0.3 %      - loss :  0.4617121278180599       - acc :  34.0\n",
      "Avancement  31 / 300  :  10.3 %      - loss :  0.36118600408769774       - acc :  44.0\n",
      "Avancement  61 / 300  :  20.3 %      - loss :  0.2492535924956032       - acc :  55.0\n",
      "Avancement  91 / 300  :  30.3 %      - loss :  0.16960968850964464       - acc :  77.0\n",
      "Avancement  121 / 300  :  40.3 %      - loss :  0.13250645906887848       - acc :  87.0\n",
      "Avancement  151 / 300  :  50.3 %      - loss :  0.1150085839407066       - acc :  87.0\n",
      "Avancement  181 / 300  :  60.3 %      - loss :  0.10539221066562306       - acc :  89.0\n",
      "Avancement  211 / 300  :  70.3 %      - loss :  0.09943915611123443       - acc :  89.0\n",
      "Avancement  241 / 300  :  80.3 %      - loss :  0.09543421474688643       - acc :  89.0\n",
      "Avancement  271 / 300  :  90.3 %      - loss :  0.09257284287729024       - acc :  89.0\n",
      "Avancement  300 / 300  :  100.0 %      - loss :  0.09049612742354213       - acc :  89.0\n"
     ]
    }
   ],
   "source": [
    "m1.train(learning_rate=0.15, epochs=300)"
   ]
  },
  {
   "cell_type": "markdown",
   "id": "ca8b2916",
   "metadata": {},
   "source": [
    "# Courbes d'apprentissage : accuracy curve et loss curve"
   ]
  },
  {
   "cell_type": "code",
   "execution_count": 151,
   "id": "5a341263",
   "metadata": {
    "ExecuteTime": {
     "end_time": "2021-05-25T13:34:08.136903Z",
     "start_time": "2021-05-25T13:34:08.037170Z"
    },
    "scrolled": true
   },
   "outputs": [
    {
     "data": {
      "image/png": "[encoded data removed]",
      "text/plain": [
       "<Figure size 432x288 with 1 Axes>"
      ]
     },
     "metadata": {
      "needs_background": "light"
     },
     "output_type": "display_data"
    }
   ],
   "source": [
    "m1.accuracy_curve()"
   ]
  },
  {
   "cell_type": "code",
   "execution_count": 152,
   "id": "a546c3de",
   "metadata": {
    "ExecuteTime": {
     "end_time": "2021-05-25T13:34:11.479677Z",
     "start_time": "2021-05-25T13:34:11.389038Z"
    },
    "scrolled": true
   },
   "outputs": [
    {
     "data": {
      "image/png": "[encoded data removed]",
      "text/plain": [
       "<Figure size 432x288 with 1 Axes>"
      ]
     },
     "metadata": {
      "needs_background": "light"
     },
     "output_type": "display_data"
    }
   ],
   "source": [
    "m1.loss_curve()"
   ]
  },
  {
   "cell_type": "markdown",
   "id": "cf0af7e4",
   "metadata": {},
   "source": [
    "# Decision boundary"
   ]
  },
  {
   "cell_type": "code",
   "execution_count": 153,
   "id": "f99a5986",
   "metadata": {
    "ExecuteTime": {
     "end_time": "2021-05-25T13:34:14.279949Z",
     "start_time": "2021-05-25T13:34:14.164258Z"
    },
    "scrolled": true
   },
   "outputs": [
    {
     "data": {
      "image/png": "[encoded data removed]",
      "text/plain": [
       "<Figure size 432x288 with 1 Axes>"
      ]
     },
     "metadata": {
      "needs_background": "light"
     },
     "output_type": "display_data"
    }
   ],
   "source": [
    "m1.decision_boundary()"
   ]
  },
  {
   "cell_type": "markdown",
   "id": "e45c14b0",
   "metadata": {},
   "source": [
    "# Prédiction"
   ]
  },
  {
   "cell_type": "code",
   "execution_count": 154,
   "id": "2b0eeedc",
   "metadata": {
    "ExecuteTime": {
     "end_time": "2021-05-25T13:34:14.591873Z",
     "start_time": "2021-05-25T13:34:14.460225Z"
    },
    "scrolled": true
   },
   "outputs": [
    {
     "data": {
      "text/plain": [
       "<AxesSubplot:>"
      ]
     },
     "execution_count": 154,
     "metadata": {},
     "output_type": "execute_result"
    },
    {
     "data": {
      "image/png": "[encoded data removed]",
      "text/plain": [
       "<Figure size 432x288 with 1 Axes>"
      ]
     },
     "metadata": {
      "needs_background": "light"
     },
     "output_type": "display_data"
    }
   ],
   "source": [
    "sns.scatterplot(x=X[:,0],y=X[:,1],hue=m1.predict(X))"
   ]
  },
  {
   "cell_type": "markdown",
   "id": "c764ed04",
   "metadata": {},
   "source": [
    "# Evolution du biais"
   ]
  },
  {
   "cell_type": "code",
   "execution_count": 155,
   "id": "f1634037",
   "metadata": {
    "ExecuteTime": {
     "end_time": "2021-05-25T13:34:14.857929Z",
     "start_time": "2021-05-25T13:34:14.749299Z"
    }
   },
   "outputs": [
    {
     "data": {
      "text/plain": [
       "<AxesSubplot:>"
      ]
     },
     "execution_count": 155,
     "metadata": {},
     "output_type": "execute_result"
    },
    {
     "data": {
      "image/png": "[encoded data removed]",
      "text/plain": [
       "<Figure size 432x288 with 1 Axes>"
      ]
     },
     "metadata": {
      "needs_background": "light"
     },
     "output_type": "display_data"
    }
   ],
   "source": [
    "sns.scatterplot(y=m1.bias_history, x=range(len(m1.bias_history)))"
   ]
  }
 ],
 "metadata": {
  "kernelspec": {
   "display_name": "Python 3",
   "language": "python",
   "name": "python3"
  },
  "language_info": {
   "codemirror_mode": {
    "name": "ipython",
    "version": 3
   },
   "file_extension": ".py",
   "mimetype": "text/x-python",
   "name": "python",
   "nbconvert_exporter": "python",
   "pygments_lexer": "ipython3",
   "version": "3.9.5"
  },
  "varInspector": {
   "cols": {
    "lenName": 16,
    "lenType": 16,
    "lenVar": 40
   },
   "kernels_config": {
    "python": {
     "delete_cmd_postfix": "",
     "delete_cmd_prefix": "del ",
     "library": "var_list.py",
     "varRefreshCmd": "print(var_dic_list())"
    },
    "r": {
     "delete_cmd_postfix": ") ",
     "delete_cmd_prefix": "rm(",
     "library": "var_list.r",
     "varRefreshCmd": "cat(var_dic_list()) "
    }
   },
   "types_to_exclude": [
    "module",
    "function",
    "builtin_function_or_method",
    "instance",
    "_Feature"
   ],
   "window_display": false
  }
 },
 "nbformat": 4,
 "nbformat_minor": 5
}
